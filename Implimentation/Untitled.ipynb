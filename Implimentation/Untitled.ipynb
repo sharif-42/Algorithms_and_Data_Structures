{
 "cells": [
  {
   "cell_type": "code",
   "execution_count": null,
   "metadata": {},
   "outputs": [],
   "source": [
    "\n",
    "def generate_combination(lst,n):\n",
    "    result = []\n",
    "\n",
    "    for i in range(1,n+1):\n",
    "        result.append([lst[i-1]])\n",
    "        \n",
    "    print(result)\n",
    "    \n",
    "    for i in range(n):\n",
    "        for j in range(1,n):\n",
    "            result.append([lst[0],lst[j]])\n",
    "        print(result)\n",
    "        if i==3:\n",
    "            break\n",
    "        temp = lst[0]\n",
    "        lst[0]=lst[i+1]\n",
    "        lst[i+1]=temp\n",
    "        \n",
    "\n",
    "        \n",
    "    \n",
    "\n",
    "\n",
    "n = 4\n",
    "lst = [0,5,7,9]\n",
    "generate_combination(lst,n)\n",
    "\n",
    "    \n",
    "    "
   ]
  },
  {
   "cell_type": "code",
   "execution_count": null,
   "metadata": {},
   "outputs": [],
   "source": []
  },
  {
   "cell_type": "code",
   "execution_count": null,
   "metadata": {},
   "outputs": [],
   "source": []
  },
  {
   "cell_type": "code",
   "execution_count": null,
   "metadata": {},
   "outputs": [],
   "source": []
  },
  {
   "cell_type": "code",
   "execution_count": null,
   "metadata": {},
   "outputs": [],
   "source": []
  }
 ],
 "metadata": {
  "kernelspec": {
   "display_name": "Python 3",
   "language": "python",
   "name": "python3"
  },
  "language_info": {
   "codemirror_mode": {
    "name": "ipython",
    "version": 3
   },
   "file_extension": ".py",
   "mimetype": "text/x-python",
   "name": "python",
   "nbconvert_exporter": "python",
   "pygments_lexer": "ipython3",
   "version": "3.6.9"
  }
 },
 "nbformat": 4,
 "nbformat_minor": 4
}
