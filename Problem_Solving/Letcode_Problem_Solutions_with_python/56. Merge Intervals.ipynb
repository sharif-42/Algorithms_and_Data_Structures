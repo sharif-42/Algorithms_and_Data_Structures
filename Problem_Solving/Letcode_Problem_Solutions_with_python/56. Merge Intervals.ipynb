{
 "cells": [
  {
   "cell_type": "code",
   "execution_count": 15,
   "metadata": {},
   "outputs": [
    {
     "data": {
      "text/plain": [
       "[[1, 3], [7, 10], [12, 15]]"
      ]
     },
     "execution_count": 15,
     "metadata": {},
     "output_type": "execute_result"
    }
   ],
   "source": [
    "class Solution:\n",
    "    def merge(self, intervals):\n",
    "        if not intervals:\n",
    "            return intervals\n",
    "        intervals = sorted(intervals)\n",
    "        l = len(intervals)\n",
    "        new_intervals = []\n",
    "        new_intervals.append(intervals[0])\n",
    "        for i in range(1,l):\n",
    "            start, end = new_intervals[-1]\n",
    "            if intervals[i][0]<=end:\n",
    "                new_intervals[-1]=[start,max(intervals[i][1],end)]\n",
    "            else:\n",
    "                new_intervals.append(intervals[i])\n",
    "        return new_intervals\n",
    "            \n",
    "intervals = [[1,3],[2,6],[8,10],[15,18],[7,10],[12,15]]\n",
    "Solution().merge(intervals)"
   ]
  },
  {
   "cell_type": "code",
   "execution_count": null,
   "metadata": {},
   "outputs": [],
   "source": []
  }
 ],
 "metadata": {
  "kernelspec": {
   "display_name": "Python 3",
   "language": "python",
   "name": "python3"
  },
  "language_info": {
   "codemirror_mode": {
    "name": "ipython",
    "version": 3
   },
   "file_extension": ".py",
   "mimetype": "text/x-python",
   "name": "python",
   "nbconvert_exporter": "python",
   "pygments_lexer": "ipython3",
   "version": "3.6.9"
  }
 },
 "nbformat": 4,
 "nbformat_minor": 4
}
