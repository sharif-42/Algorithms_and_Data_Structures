{
 "cells": [
  {
   "cell_type": "code",
   "execution_count": 123,
   "metadata": {},
   "outputs": [
    {
     "data": {
      "text/plain": [
       "'PAHNAPLSIIGYIR'"
      ]
     },
     "execution_count": 123,
     "metadata": {},
     "output_type": "execute_result"
    }
   ],
   "source": [
    "class Solution:\n",
    "    def transpose_matrix(self, matrix):\n",
    "        l = len(matrix)\n",
    "        str = ''\n",
    "        for x in zip(*matrix):\n",
    "            for i in x:\n",
    "                if i!=' ':\n",
    "                    str+=i                    \n",
    "        return str\n",
    "                  \n",
    "    def get_matrix(self, s, numRows):\n",
    "        mat = []\n",
    "        \n",
    "        direction = 0\n",
    "        index = 0\n",
    "        try:\n",
    "            for i in s:\n",
    "                new = []\n",
    "                if direction==0: \n",
    "                    for j in range(numRows):\n",
    "                        new.append(s[index])\n",
    "                        index +=1\n",
    "                else:\n",
    "                    new = [' ' for i in range(numRows)]\n",
    "                    new[numRows-direction-1]=s[index]\n",
    "                    index+=1\n",
    "                \n",
    "                if numRows==1:\n",
    "                    direction = (direction+1)%(numRows)\n",
    "                else:   \n",
    "                    direction = (direction+1)%(numRows-1)\n",
    "                mat.append(new)\n",
    "        except Exception as e:\n",
    "            mat.append(new)  \n",
    "        return mat\n",
    "    \n",
    "    def convert(self, s: str, numRows: int) -> str:\n",
    "        if s == \"\":\n",
    "            return \"\"\n",
    "        matrix = self.get_matrix(s, numRows)\n",
    "        l = len(matrix)\n",
    "        last_row = len(matrix[l-1])\n",
    "\n",
    "        \n",
    "        for i in range(numRows-last_row):\n",
    "            matrix[l-1].append(' ')\n",
    "\n",
    "        mat = self.transpose_matrix(matrix=matrix)\n",
    "        return mat\n",
    "                        \n",
    "s = 'PAYPALISHIRING'\n",
    "numRows = 3\n",
    "Solution().convert(s,numRows)"
   ]
  },
  {
   "cell_type": "code",
   "execution_count": null,
   "metadata": {},
   "outputs": [],
   "source": []
  }
 ],
 "metadata": {
  "kernelspec": {
   "display_name": "Python 3",
   "language": "python",
   "name": "python3"
  },
  "language_info": {
   "codemirror_mode": {
    "name": "ipython",
    "version": 3
   },
   "file_extension": ".py",
   "mimetype": "text/x-python",
   "name": "python",
   "nbconvert_exporter": "python",
   "pygments_lexer": "ipython3",
   "version": "3.6.9"
  }
 },
 "nbformat": 4,
 "nbformat_minor": 4
}
