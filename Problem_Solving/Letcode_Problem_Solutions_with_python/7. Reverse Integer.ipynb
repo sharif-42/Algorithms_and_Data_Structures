{
 "cells": [
  {
   "cell_type": "code",
   "execution_count": 36,
   "metadata": {},
   "outputs": [
    {
     "data": {
      "text/plain": [
       "0"
      ]
     },
     "execution_count": 36,
     "metadata": {},
     "output_type": "execute_result"
    }
   ],
   "source": [
    "class Solution:\n",
    "    def reverse(self, x: int) -> int:\n",
    "        if int(str(abs(x))[::-1]) > (2 ** 31 - 1) or x == 0:\n",
    "            return 0\n",
    "        lst = str(x)\n",
    "        lst = lst[::-1]\n",
    "        index=0\n",
    "        for i in lst:\n",
    "            if i =='0':\n",
    "                index+=1\n",
    "            else:\n",
    "                break\n",
    "        lst = lst[index:]\n",
    "        if x<0:\n",
    "            return '-'+lst[:-1]\n",
    "        return lst\n",
    "\n",
    "x = 1534236469\n",
    "Solution().reverse(x)"
   ]
  },
  {
   "cell_type": "code",
   "execution_count": null,
   "metadata": {},
   "outputs": [],
   "source": []
  }
 ],
 "metadata": {
  "kernelspec": {
   "display_name": "Python 3",
   "language": "python",
   "name": "python3"
  },
  "language_info": {
   "codemirror_mode": {
    "name": "ipython",
    "version": 3
   },
   "file_extension": ".py",
   "mimetype": "text/x-python",
   "name": "python",
   "nbconvert_exporter": "python",
   "pygments_lexer": "ipython3",
   "version": "3.6.9"
  }
 },
 "nbformat": 4,
 "nbformat_minor": 4
}
