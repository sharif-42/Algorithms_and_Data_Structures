{
 "cells": [
  {
   "cell_type": "code",
   "execution_count": 27,
   "metadata": {},
   "outputs": [
    {
     "data": {
      "text/plain": [
       "[1, 2, 3, 6, 9, 12, 11, 10, 7, 4, 5, 8]"
      ]
     },
     "execution_count": 27,
     "metadata": {},
     "output_type": "execute_result"
    }
   ],
   "source": [
    "class Solution:\n",
    "    def spiralOrder(self, matrix):\n",
    "        spiral_array = []\n",
    "        n ,m = len(matrix[0]),len(matrix)\n",
    "        direction, left , right, top, bottom = 0, 0, n-1, 0, m-1\n",
    "        \n",
    "        while(left<=right and top<=bottom):\n",
    "            \n",
    "            if direction==0:  #left to right\n",
    "                for i in range(left, right+1):\n",
    "                    spiral_array.append(matrix[top][i])\n",
    "                top+=1\n",
    "                \n",
    "            elif direction ==1: # top to bottom\n",
    "                for i in range(top,bottom+1):\n",
    "                    spiral_array.append(matrix[i][right])\n",
    "                right-=1\n",
    "                \n",
    "            elif direction ==2: # right to left\n",
    "                for i in range(right, left-1, -1):\n",
    "                    spiral_array.append(matrix[bottom][i])\n",
    "                bottom-=1\n",
    "                \n",
    "            else:              # bottom to top\n",
    "                for i in range(bottom, top-1, -1):\n",
    "                    spiral_array.append(matrix[i][left])\n",
    "                left+=1\n",
    "                \n",
    "            direction = (direction+1)%4\n",
    "        return spiral_array\n",
    "                          \n",
    "        \n",
    "    \n",
    "matrix = [\n",
    "     [ 1, 2, 3 ],\n",
    "     [ 4, 5, 6 ],\n",
    "     [ 7, 8, 9 ],\n",
    "     [ 10, 11, 12 ],\n",
    "]\n",
    "Solution().spiralOrder(matrix)"
   ]
  },
  {
   "cell_type": "code",
   "execution_count": null,
   "metadata": {},
   "outputs": [],
   "source": []
  }
 ],
 "metadata": {
  "kernelspec": {
   "display_name": "Python 3",
   "language": "python",
   "name": "python3"
  },
  "language_info": {
   "codemirror_mode": {
    "name": "ipython",
    "version": 3
   },
   "file_extension": ".py",
   "mimetype": "text/x-python",
   "name": "python",
   "nbconvert_exporter": "python",
   "pygments_lexer": "ipython3",
   "version": "3.6.9"
  }
 },
 "nbformat": 4,
 "nbformat_minor": 4
}
