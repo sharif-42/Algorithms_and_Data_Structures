{
 "cells": [
  {
   "cell_type": "code",
   "execution_count": 13,
   "metadata": {},
   "outputs": [
    {
     "name": "stdout",
     "output_type": "stream",
     "text": [
      "[[1, 2, 3, 4, 5], [6, 7, 8, 9, 10], [11, 12, 13, 14, 15], [16, 17, 18, 19, 20], [21, 22, 23, 24, 25]]\n"
     ]
    }
   ],
   "source": [
    "n = 5\n",
    "matrix = []\n",
    "num = 1\n",
    "for i in range(n):\n",
    "    new = []\n",
    "    for j in range(n):\n",
    "        new.append(num)\n",
    "        num+=1\n",
    "    matrix.append(new)\n",
    "        \n",
    "print(matrix)"
   ]
  },
  {
   "cell_type": "code",
   "execution_count": 14,
   "metadata": {},
   "outputs": [
    {
     "name": "stdout",
     "output_type": "stream",
     "text": [
      "dir 0 [1, 2, 3, 4, 5]\n",
      "dir 1 [1, 2, 3, 4, 5, 10, 15, 20, 25]\n",
      "dir 2 [1, 2, 3, 4, 5, 10, 15, 20, 25, 24, 23, 22, 21]\n",
      "dir 3 [1, 2, 3, 4, 5, 10, 15, 20, 25, 24, 23, 22, 21, 16, 11, 6]\n",
      "dir 0 [1, 2, 3, 4, 5, 10, 15, 20, 25, 24, 23, 22, 21, 16, 11, 6, 7, 8, 9]\n",
      "dir 1 [1, 2, 3, 4, 5, 10, 15, 20, 25, 24, 23, 22, 21, 16, 11, 6, 7, 8, 9, 14, 19]\n",
      "dir 2 [1, 2, 3, 4, 5, 10, 15, 20, 25, 24, 23, 22, 21, 16, 11, 6, 7, 8, 9, 14, 19, 18, 17]\n",
      "dir 3 [1, 2, 3, 4, 5, 10, 15, 20, 25, 24, 23, 22, 21, 16, 11, 6, 7, 8, 9, 14, 19, 18, 17, 12]\n",
      "dir 0 [1, 2, 3, 4, 5, 10, 15, 20, 25, 24, 23, 22, 21, 16, 11, 6, 7, 8, 9, 14, 19, 18, 17, 12, 13]\n"
     ]
    }
   ],
   "source": [
    "class SpiralOrderMatrix:\n",
    "    @staticmethod\n",
    "    def spiral_order_matrix(matrix):\n",
    "        n = len(matrix[0])\n",
    "        m = len(matrix)\n",
    "        result_matrix = []\n",
    "        left , right, top, bottom = 0, n-1, 0, m-1\n",
    "        direction = 0\n",
    "        \n",
    "        while left<=right and top<=bottom:\n",
    "            if direction ==0:\n",
    "                for i in range(left, right+1):\n",
    "                    result_matrix.append(matrix[left][i])\n",
    "                print(\"dir 0\",result_matrix)\n",
    "                top+=1\n",
    "            \n",
    "            elif direction ==1:\n",
    "                for i in range(top,bottom+1):\n",
    "                    result_matrix.append(matrix[i][right])\n",
    "                print(\"dir 1\",result_matrix)\n",
    "                right-=1\n",
    "            \n",
    "            elif direction ==2:\n",
    "                for i in range(right, left-1, -1):\n",
    "                    result_matrix.append(matrix[bottom][i])\n",
    "                print(\"dir 2\",result_matrix)\n",
    "                bottom-=1\n",
    "            else:\n",
    "                for i in range(bottom, top-1, -1):\n",
    "                    result_matrix.append(matrix[i][left])\n",
    "                left+=1\n",
    "                print(\"dir 3\",result_matrix)\n",
    "            \n",
    "            direction = (direction+1)%4    \n",
    "        \n",
    "# matrix = [\n",
    "#           [1, 2, 3, 4], \n",
    "#           [5, 6, 7, 8], \n",
    "#           [9, 10, 11, 12], \n",
    "#           [13, 14, 15, 16]\n",
    "#          ]\n",
    "    \n",
    "SpiralOrderMatrix.spiral_order_matrix(matrix)       "
   ]
  },
  {
   "cell_type": "code",
   "execution_count": null,
   "metadata": {},
   "outputs": [],
   "source": []
  },
  {
   "cell_type": "code",
   "execution_count": null,
   "metadata": {},
   "outputs": [],
   "source": []
  }
 ],
 "metadata": {
  "kernelspec": {
   "display_name": "Python 3",
   "language": "python",
   "name": "python3"
  },
  "language_info": {
   "codemirror_mode": {
    "name": "ipython",
    "version": 3
   },
   "file_extension": ".py",
   "mimetype": "text/x-python",
   "name": "python",
   "nbconvert_exporter": "python",
   "pygments_lexer": "ipython3",
   "version": "3.6.9"
  }
 },
 "nbformat": 4,
 "nbformat_minor": 4
}
