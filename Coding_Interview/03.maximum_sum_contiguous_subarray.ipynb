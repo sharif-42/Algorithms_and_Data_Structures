{
 "cells": [
  {
   "cell_type": "code",
   "execution_count": 14,
   "metadata": {},
   "outputs": [
    {
     "name": "stdout",
     "output_type": "stream",
     "text": [
      "10\n"
     ]
    }
   ],
   "source": [
    "class MaximumSumContiguousSubArray:\n",
    "    def __init__(self, lst):\n",
    "        self.lst = lst\n",
    "        \n",
    "    def calculate_maximum_sum(self):\n",
    "        max_sum = -1000000000000\n",
    "        current_sum = 0\n",
    "        for i in self.lst:\n",
    "            current_sum +=i\n",
    "            if current_sum>max_sum:\n",
    "                max_sum = current_sum\n",
    "                \n",
    "            if current_sum<0:\n",
    "                current_sum = 0\n",
    "        return max_sum\n",
    "    \n",
    "lst = [-1, -2, 1, 2, 3, -5, 4, 5]\n",
    "ms = MaximumSumContiguousSubArray(lst)\n",
    "print(ms.calculate_maximum_sum())"
   ]
  },
  {
   "cell_type": "code",
   "execution_count": null,
   "metadata": {},
   "outputs": [],
   "source": []
  },
  {
   "cell_type": "code",
   "execution_count": null,
   "metadata": {},
   "outputs": [],
   "source": []
  }
 ],
 "metadata": {
  "kernelspec": {
   "display_name": "Python 3",
   "language": "python",
   "name": "python3"
  },
  "language_info": {
   "codemirror_mode": {
    "name": "ipython",
    "version": 3
   },
   "file_extension": ".py",
   "mimetype": "text/x-python",
   "name": "python",
   "nbconvert_exporter": "python",
   "pygments_lexer": "ipython3",
   "version": "3.6.9"
  }
 },
 "nbformat": 4,
 "nbformat_minor": 4
}
