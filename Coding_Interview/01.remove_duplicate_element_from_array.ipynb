{
 "cells": [
  {
   "cell_type": "code",
   "execution_count": 16,
   "metadata": {},
   "outputs": [
    {
     "name": "stdout",
     "output_type": "stream",
     "text": [
      "1 2 3 4 5\n",
      "1 2 3 4 5\n"
     ]
    }
   ],
   "source": [
    "class DuplicateRemove:\n",
    "    def __init__(self,lst):\n",
    "        self.lst = lst\n",
    "        \n",
    "    \n",
    "    def remove_using_set(self):\n",
    "        print(*set(self.lst))\n",
    "        \n",
    "    def remove_manually(self):\n",
    "        lst = sorted(self.lst)\n",
    "        n = len(self.lst)\n",
    "        unique_nums = []\n",
    "        unique_nums.append(lst[0])\n",
    "        for i in range(1, n):\n",
    "            if lst[i]!=lst[i-1]:\n",
    "                unique_nums.append(lst[i])\n",
    "        \n",
    "        print(*unique_nums)\n",
    "        \n",
    "\n",
    "lst = [1, 2 ,3 ,4 ,5 ,1 ,2 ,3 ,4 ,5 ,1 ,2 ,3 ,4 ,5]\n",
    "duplicate_remove = DuplicateRemove(lst)\n",
    "duplicate_remove.remove_using_set()\n",
    "duplicate_remove.remove_manually()\n",
    "        "
   ]
  },
  {
   "cell_type": "code",
   "execution_count": null,
   "metadata": {},
   "outputs": [],
   "source": []
  }
 ],
 "metadata": {
  "kernelspec": {
   "display_name": "Python 3",
   "language": "python",
   "name": "python3"
  },
  "language_info": {
   "codemirror_mode": {
    "name": "ipython",
    "version": 3
   },
   "file_extension": ".py",
   "mimetype": "text/x-python",
   "name": "python",
   "nbconvert_exporter": "python",
   "pygments_lexer": "ipython3",
   "version": "3.6.9"
  }
 },
 "nbformat": 4,
 "nbformat_minor": 4
}
