{
 "cells": [
  {
   "cell_type": "code",
   "execution_count": 5,
   "metadata": {},
   "outputs": [
    {
     "name": "stdout",
     "output_type": "stream",
     "text": [
      "[(2, 3), (3, 0), (5, 1), (7, 2), (10, 4)]\n",
      "3\n",
      "3\n",
      "0\n",
      "1\n",
      "2\n",
      "4\n"
     ]
    }
   ],
   "source": [
    "def maximum_distance(lst,i,j):\n",
    "    \"\"\"\n",
    "    maximum distance between two element of array\n",
    "    \"\"\"\n",
    "    numbers = []\n",
    "    for i, num in enumerate(lst):\n",
    "        numbers.append((num,i))\n",
    "    \n",
    "    numbers.sort()\n",
    "    print(numbers)\n",
    "    \n",
    "    max_gap = 0\n",
    "    min_number = numbers[0][1]\n",
    "    print(min_number)\n",
    "    \n",
    "    for item in numbers:\n",
    "        print(item[1])\n",
    "\n",
    "lst = [3,5,7,2,10]\n",
    "maximum_distance(lst,1,2)"
   ]
  },
  {
   "cell_type": "code",
   "execution_count": null,
   "metadata": {},
   "outputs": [],
   "source": []
  }
 ],
 "metadata": {
  "kernelspec": {
   "display_name": "Python 3",
   "language": "python",
   "name": "python3"
  },
  "language_info": {
   "codemirror_mode": {
    "name": "ipython",
    "version": 3
   },
   "file_extension": ".py",
   "mimetype": "text/x-python",
   "name": "python",
   "nbconvert_exporter": "python",
   "pygments_lexer": "ipython3",
   "version": "3.6.9"
  }
 },
 "nbformat": 4,
 "nbformat_minor": 4
}
