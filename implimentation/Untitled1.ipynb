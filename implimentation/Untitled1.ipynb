{
 "cells": [
  {
   "cell_type": "code",
   "execution_count": 14,
   "metadata": {},
   "outputs": [
    {
     "name": "stdout",
     "output_type": "stream",
     "text": [
      "[2, 1]\n"
     ]
    }
   ],
   "source": [
    "class Solution:\n",
    "    def two_sum(self,lst,target):\n",
    "        hash_table = []\n",
    "\n",
    "        for index,value in enumerate(lst):\n",
    "            remain = target-value\n",
    "            if remain in hash_table:\n",
    "                return [index, hash_table.index(remain)]\n",
    "            else:\n",
    "                hash_table.append(value)\n",
    "                \n",
    "                        \n",
    "    \n",
    "lst = [3,2,4]\n",
    "target = 6\n",
    "sln = Solution()\n",
    "sln = sln.two_sum(lst,target)\n",
    "print(sln)"
   ]
  },
  {
   "cell_type": "markdown",
   "metadata": {},
   "source": [
    "# Paliondrom\n",
    "\n",
    "https://leetcode.com/problems/palindrome-number/"
   ]
  },
  {
   "cell_type": "code",
   "execution_count": 23,
   "metadata": {},
   "outputs": [
    {
     "data": {
      "text/plain": [
       "False"
      ]
     },
     "execution_count": 23,
     "metadata": {},
     "output_type": "execute_result"
    }
   ],
   "source": [
    "class Solution:\n",
    "    def isPalindrome(self, x: int) -> bool:   \n",
    "        l = str(x)\n",
    "        rev_l = l[::-1]\n",
    "        if l==rev_l:\n",
    "            return True\n",
    "        return False\n",
    "    \n",
    "sln = Solution()\n",
    "sln.isPalindrome(1010)"
   ]
  },
  {
   "cell_type": "code",
   "execution_count": null,
   "metadata": {},
   "outputs": [],
   "source": [
    "# Merge Two List\n",
    "\n"
   ]
  },
  {
   "cell_type": "code",
   "execution_count": 36,
   "metadata": {},
   "outputs": [
    {
     "data": {
      "text/plain": [
       "'1->1->1->2->3->4->4'"
      ]
     },
     "execution_count": 36,
     "metadata": {},
     "output_type": "execute_result"
    }
   ],
   "source": [
    "class Solution:\n",
    "    def mergeTwoLists(self, l1, l2):\n",
    "        l1 = [int(i) for i in l1.split('->')]\n",
    "        l2 = [int(i) for i in l2.split('->')]\n",
    "        l = sorted(l1 + l2)\n",
    "        n = len(l)\n",
    "        res = str(l[0])\n",
    "    \n",
    "        for i in range(n):\n",
    "            res = res +'->'+str(l[i])\n",
    "        \n",
    "        return res\n",
    "\n",
    "l1 = '1->2->4' \n",
    "l2 = '1->3->4'\n",
    "sln = Solution()\n",
    "sln.mergeTwoLists(l1,l2)"
   ]
  },
  {
   "cell_type": "markdown",
   "metadata": {},
   "source": [
    "# 20. Valid Parentheses \n",
    "\n",
    "https://leetcode.com/problems/valid-parentheses/"
   ]
  },
  {
   "cell_type": "code",
   "execution_count": 8,
   "metadata": {},
   "outputs": [
    {
     "name": "stdout",
     "output_type": "stream",
     "text": [
      "False\n"
     ]
    }
   ],
   "source": [
    "class Solution:\n",
    "    def isValid(self, s: str) -> bool:\n",
    "        if len(s)==0:\n",
    "            return True\n",
    "        queue = []\n",
    "        for i in s:\n",
    "            if queue:\n",
    "                top = queue[-1]\n",
    "                if i =='}' and top!='{':\n",
    "                    return False\n",
    "                elif i =='}' and top=='{':\n",
    "                    queue.pop()\n",
    "                    continue\n",
    "                elif i == ']' and top !='[':             \n",
    "                    return False\n",
    "                elif i == ']' and top =='[':\n",
    "                    queue.pop()\n",
    "                    continue\n",
    "                    \n",
    "                elif i== ')' and top !='(':\n",
    "                    return False\n",
    "                elif i== ')' and top =='(':\n",
    "                    queue.pop()\n",
    "                    continue   \n",
    "                else:\n",
    "                    queue.append(i)\n",
    "            else:\n",
    "                queue.append(i)\n",
    "                \n",
    "        if queue:\n",
    "            return False\n",
    "        else:\n",
    "            return True\n",
    "\n",
    "s = \"(]\"\n",
    "sln = Solution()\n",
    "sln = sln.isValid(s)\n",
    "                \n",
    "print(sln)            \n",
    "  \n",
    "        "
   ]
  },
  {
   "cell_type": "markdown",
   "metadata": {},
   "source": [
    "# 28. Implement strStr()\n",
    "\n",
    "https://leetcode.com/problems/implement-strstr/"
   ]
  },
  {
   "cell_type": "code",
   "execution_count": 19,
   "metadata": {},
   "outputs": [
    {
     "name": "stdout",
     "output_type": "stream",
     "text": [
      "-1\n"
     ]
    }
   ],
   "source": [
    "class Solution:\n",
    "    def strStr(self, haystack: str, needle: str) -> int:\n",
    "        f = haystack.find(needle)\n",
    "        return f\n",
    "\n",
    "sln = Solution()\n",
    "sln = sln.strStr(\"\",\"lfl\")\n",
    "print(sln)"
   ]
  },
  {
   "cell_type": "code",
   "execution_count": 33,
   "metadata": {},
   "outputs": [
    {
     "name": "stdout",
     "output_type": "stream",
     "text": [
      "[(0, 0, 0, 0, 0, 0, 1), (1, 3, 2, 2, 4, 3, 2), (2, 1, 3, 4, 1, 2, 2), (4, 3, 2, 1, 2, 2, 2)]\n"
     ]
    }
   ],
   "source": [
    "matrix = [[0, 1, 2, 4],\n",
    "          [0, 3, 1, 3],\n",
    "          [0, 2, 3, 2],\n",
    "          [0, 2, 4, 1],\n",
    "          [0, 4, 1, 2],\n",
    "          [0, 3, 2, 2],\n",
    "          [1, 2, 2, 2]]\n",
    "n = len(matrix[0])\n",
    "transpose = [[row[i] for row in matrix] for i in range(n)]\n",
    "print (transpose)\n",
    "\n",
    "transpose = list(zip(*matrix))\n"
   ]
  },
  {
   "cell_type": "code",
   "execution_count": 31,
   "metadata": {},
   "outputs": [
    {
     "name": "stdout",
     "output_type": "stream",
     "text": [
      "[['a', 'd', 'g'], ['b', 'e', 'h'], ['c', 'f', 'i']]\n"
     ]
    }
   ],
   "source": [
    "matrix = [['a','b','c'],['d','e','f'],['g','h','i']]\n",
    "n = len(matrix)\n",
    "transpose = [[row[i] for row in matrix] for i in range(n)]\n",
    "print (transpose)"
   ]
  },
  {
   "cell_type": "code",
   "execution_count": null,
   "metadata": {},
   "outputs": [],
   "source": [
    "lst "
   ]
  },
  {
   "cell_type": "code",
   "execution_count": null,
   "metadata": {},
   "outputs": [],
   "source": []
  },
  {
   "cell_type": "markdown",
   "metadata": {},
   "source": [
    "# 26. Remove Duplicates from Sorted Array\n",
    "\n",
    "https://leetcode.com/problems/remove-duplicates-from-sorted-array/"
   ]
  },
  {
   "cell_type": "code",
   "execution_count": 73,
   "metadata": {},
   "outputs": [
    {
     "name": "stdout",
     "output_type": "stream",
     "text": [
      "[0, 0, 1, 1, 1, 2, 2, 3, 3, 3, 4]\n",
      "[0, 1, 1, 1, 1, 2, 2, 3, 3, 3, 4]\n",
      "[0, 1, 1, 1, 1, 2, 2, 3, 3, 3, 4]\n",
      "[0, 1, 1, 1, 1, 2, 2, 3, 3, 3, 4]\n",
      "[0, 1, 2, 1, 1, 2, 2, 3, 3, 3, 4]\n",
      "[0, 1, 2, 1, 1, 2, 2, 3, 3, 3, 4]\n",
      "[0, 1, 2, 3, 1, 2, 2, 3, 3, 3, 4]\n",
      "[0, 1, 2, 3, 1, 2, 2, 3, 3, 3, 4]\n",
      "[0, 1, 2, 3, 1, 2, 2, 3, 3, 3, 4]\n",
      "[0, 1, 2, 3, 4, 2, 2, 3, 3, 3, 4]\n",
      "5\n"
     ]
    }
   ],
   "source": [
    "class Solution:\n",
    "    def removeDuplicates(self, nums):\n",
    "        count = 1\n",
    "        n = len(nums)\n",
    "        for i in range(0, n-1):\n",
    "            if nums[i] == nums[i+1]:\n",
    "                pass\n",
    "            else:\n",
    "                nums[count] = nums[i+1]\n",
    "                count += 1\n",
    "            print(nums)\n",
    "        return count\n",
    "\n",
    "\n",
    "sln = Solution()\n",
    "sln = sln.removeDuplicates([0,0,1,1,1,2,2,3,3,3,4])\n",
    "print(sln)"
   ]
  },
  {
   "cell_type": "code",
   "execution_count": null,
   "metadata": {},
   "outputs": [],
   "source": []
  },
  {
   "cell_type": "code",
   "execution_count": null,
   "metadata": {},
   "outputs": [],
   "source": []
  },
  {
   "cell_type": "code",
   "execution_count": null,
   "metadata": {},
   "outputs": [],
   "source": []
  },
  {
   "cell_type": "code",
   "execution_count": null,
   "metadata": {},
   "outputs": [],
   "source": []
  }
 ],
 "metadata": {
  "kernelspec": {
   "display_name": "Python 3",
   "language": "python",
   "name": "python3"
  },
  "language_info": {
   "codemirror_mode": {
    "name": "ipython",
    "version": 3
   },
   "file_extension": ".py",
   "mimetype": "text/x-python",
   "name": "python",
   "nbconvert_exporter": "python",
   "pygments_lexer": "ipython3",
   "version": "3.6.9"
  }
 },
 "nbformat": 4,
 "nbformat_minor": 4
}
